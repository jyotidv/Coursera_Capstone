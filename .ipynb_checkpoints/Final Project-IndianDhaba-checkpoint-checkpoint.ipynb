{
 "cells": [
  {
   "cell_type": "markdown",
   "metadata": {},
   "source": [
    "<b>Capstone Project -IndianDhaba</b>"
   ]
  },
  {
   "cell_type": "markdown",
   "metadata": {},
   "source": [
    "<b>Business Understanding:</b>\n",
    "Business Clients are interested in figuring out the best locations to open the New IndiaDhaba which includes dishes made from India Flavours and Major Indegredents. Main focus to explore/elevate the taste and name of Indian dishes to across the city of New York. \n",
    "\n",
    "Intrested:Authentic Indians Dhabas owners who wants to explore the Indian Cuisins/Dishes.\n",
    "\n",
    "- It includes to find out the best location where Indians Families resdients in large amount and transportaions available easily for that place from evry corner of city.\n",
    "- Location have less or no number of Indian resturant at that location.\n",
    "- Best to find place which visted frequently by many tourists and local citizens.\n",
    "- Middle of city will be best one choice.\n",
    "- Market weher all ingredents easily available.\n",
    "- In Budget\n",
    "\n",
    "In this business requirement we have to search the most prominent choice/location for resturants with more of he requirements includes.Will need to fix all the things in given budget.\n",
    "First things we have to do is finding the most visited places in New York city.\n",
    "\n",
    "<i><b><h5>QUESTIONS</h5></b></i>\n",
    "Is this affordable?\n",
    "Has market in Near?\n",
    "Transporatation cost?\n",
    "What kind of cotizens residents at that location?\n",
    "Is good idea to open the IndianDahaba at that location?\n",
    "What is the backup?\n",
    "What kind of foods, indian dishes most liked in New York?\n",
    "Is there any hotels/bars/resturants which includes the similer kind of dishes?\n",
    "\n",
    "\n",
    "We have to prioritize the objective and it helps identify what type of patterns will be needed to address the question most effectively.\n",
    "We have to analysis the best approach which includes all the aspects and requirements.Desicion Tree have to build to make better decision for this approach.\n",
    "Examining the all data first for this approach.\n"
   ]
  },
  {
   "cell_type": "markdown",
   "metadata": {},
   "source": [
    "<b>Data Requirements:</b>\n",
    "  In the initial data collection , we have toidentify and gather the available data resources. These can be in the form of structured, unstructured, and even semi-structured data relevant to the problem domain.\n",
    "  \n",
    "  - Web Scraping for find out the most vosoted and fomaous places for foods in New York City.\n",
    "  - https://www.thrillist.com/eat/new-york/most-famous-nyc-restaurants\n",
    "  "
   ]
  },
  {
   "cell_type": "markdown",
   "metadata": {},
   "source": [
    "<b> Data Collection and Understanding:</b>\n",
    " - It's important to understand its content and assess its quality,\n",
    " - Discover only interesting preliminary insights.\n",
    " - Determine whether additional data is necessary to fill any gaps in the data.\n"
   ]
  },
  {
   "cell_type": "code",
   "execution_count": 2,
   "metadata": {},
   "outputs": [
    {
     "name": "stdout",
     "output_type": "stream",
     "text": [
      "Requirement already satisfied: geopy in c:\\users\\jyoti.v.yadav\\anaconda3\\lib\\site-packages (2.0.0)\n",
      "Requirement already satisfied: geographiclib<2,>=1.49 in c:\\users\\jyoti.v.yadav\\anaconda3\\lib\\site-packages (from geopy) (1.50)\n"
     ]
    },
    {
     "name": "stderr",
     "output_type": "stream",
     "text": [
      "WARNING: You are using pip version 20.1.1; however, version 20.2.1 is available.\n",
      "You should consider upgrading via the 'c:\\users\\jyoti.v.yadav\\anaconda3\\python.exe -m pip install --upgrade pip' command.\n"
     ]
    },
    {
     "name": "stdout",
     "output_type": "stream",
     "text": [
      "Requirement already satisfied: folium in c:\\users\\jyoti.v.yadav\\anaconda3\\lib\\site-packages (0.11.0)\n",
      "Requirement already satisfied: branca>=0.3.0 in c:\\users\\jyoti.v.yadav\\anaconda3\\lib\\site-packages (from folium) (0.4.1)\n",
      "Requirement already satisfied: numpy in c:\\users\\jyoti.v.yadav\\anaconda3\\lib\\site-packages (from folium) (1.18.4)\n",
      "Requirement already satisfied: jinja2>=2.9 in c:\\users\\jyoti.v.yadav\\anaconda3\\lib\\site-packages (from folium) (2.11.1)\n",
      "Requirement already satisfied: requests in c:\\users\\jyoti.v.yadav\\anaconda3\\lib\\site-packages (from folium) (2.22.0)\n",
      "Requirement already satisfied: MarkupSafe>=0.23 in c:\\users\\jyoti.v.yadav\\anaconda3\\lib\\site-packages (from jinja2>=2.9->folium) (1.1.1)\n",
      "Requirement already satisfied: certifi>=2017.4.17 in c:\\users\\jyoti.v.yadav\\anaconda3\\lib\\site-packages (from requests->folium) (2019.11.28)\n",
      "Requirement already satisfied: urllib3!=1.25.0,!=1.25.1,<1.26,>=1.21.1 in c:\\users\\jyoti.v.yadav\\anaconda3\\lib\\site-packages (from requests->folium) (1.25.8)\n",
      "Requirement already satisfied: idna<2.9,>=2.5 in c:\\users\\jyoti.v.yadav\\anaconda3\\lib\\site-packages (from requests->folium) (2.8)\n",
      "Requirement already satisfied: chardet<3.1.0,>=3.0.2 in c:\\users\\jyoti.v.yadav\\anaconda3\\lib\\site-packages (from requests->folium) (3.0.4)\n"
     ]
    },
    {
     "name": "stderr",
     "output_type": "stream",
     "text": [
      "WARNING: You are using pip version 20.1.1; however, version 20.2.1 is available.\n",
      "You should consider upgrading via the 'C:\\Users\\jyoti.v.yadav\\Anaconda3\\python.exe -m pip install --upgrade pip' command.\n",
      "usage: conda-script.py [-h] [-V] command ...\n",
      "conda-script.py: error: unrecognized arguments: # uncomment this line if you haven't completed the Foursquare API lab\n"
     ]
    }
   ],
   "source": [
    "!pip install geopy\n",
    "!python -m pip install folium\n",
    "import pandas as pd\n",
    "import numpy as np\n",
    "from geopy.geocoders import Nominatim \n",
    "\n",
    "import matplotlib.cm as cm\n",
    "import matplotlib.colors as colors\n",
    "import json\n",
    "\n",
    "from sklearn.cluster import KMeans\n",
    "\n",
    "!conda install -c conda-forge folium=0.5.0 --yes # uncomment this line if you haven't completed the Foursquare API lab\n",
    "import folium # map rendering library"
   ]
  },
  {
   "cell_type": "code",
   "execution_count": 3,
   "metadata": {},
   "outputs": [
    {
     "name": "stdout",
     "output_type": "stream",
     "text": [
      "The geograpical coordinate of New York City are 40.7896239, -73.9598939.\n"
     ]
    }
   ],
   "source": [
    "address = 'Manhattan, New York'\n",
    "\n",
    "geolocator = Nominatim(user_agent=\"ny_explorer\")\n",
    "location = geolocator.geocode(address)\n",
    "latitude = location.latitude\n",
    "longitude = location.longitude\n",
    "print('The geograpical coordinate of New York City are {}, {}.'.format(latitude, longitude))\n",
    "\n"
   ]
  },
  {
   "cell_type": "raw",
   "metadata": {},
   "source": [
    "Neighborhood Candidates\n",
    "\n",
    "Let's create latitude & longitude coordinates for resturants in NYC.\n"
   ]
  },
  {
   "cell_type": "code",
   "execution_count": 4,
   "metadata": {},
   "outputs": [
    {
     "name": "stdout",
     "output_type": "stream",
     "text": [
      "Data downloaded!\n"
     ]
    }
   ],
   "source": [
    "#!wget -q -O 'newyork_data.json' https://en.wikipedia.org/wiki/List_of_restaurants_in_New_York_City\n",
    "with open('C://Users/jyoti.v.yadav/Desktop/Demo/restaurant-data.json', 'r', encoding='utf8') as json_data:\n",
    "    newyork_data = json.load(json_data)\n",
    "print('Data downloaded!')"
   ]
  },
  {
   "cell_type": "code",
   "execution_count": 5,
   "metadata": {},
   "outputs": [
    {
     "data": {
      "text/plain": [
       "{'restaurants': [{'id': 1,\n",
       "   'name': 'Mission Chinese Food',\n",
       "   'neighborhood': 'Manhattan',\n",
       "   'photograph': '1.jpg',\n",
       "   'address': '171 E Broadway, New York, NY 10002',\n",
       "   'latlng': {'lat': 40.713829, 'lng': -73.989667},\n",
       "   'cuisine_type': 'Asian',\n",
       "   'operating_hours': {'Monday': '5:30 pm - 11:00 pm',\n",
       "    'Tuesday': '5:30 pm - 12:00 am',\n",
       "    'Wednesday': '5:30 pm - 12:00 am',\n",
       "    'Thursday': '5:30 pm - 12:00 am',\n",
       "    'Friday': '5:30 pm - 12:00 am',\n",
       "    'Saturday': '12:00 pm - 4:00 pm, 5:30 pm - 12:00 am',\n",
       "    'Sunday': '12:00 pm - 4:00 pm, 5:30 pm - 11:00 pm'},\n",
       "   'reviews': [{'name': 'Steve',\n",
       "     'date': 'October 26, 2016',\n",
       "     'rating': 4,\n",
       "     'comments': 'Mission Chinese Food has grown up from its scrappy Orchard Street days into a big, two story restaurant equipped with a pizza oven, a prime rib cart, and a much broader menu. Yes, it still has all the hits — the kung pao pastrami, the thrice cooked bacon —but chef/proprietor Danny Bowien and executive chef Angela Dimayuga have also added a raw bar, two generous family-style set menus, and showstoppers like duck baked in clay. And you can still get a lot of food without breaking the bank.'},\n",
       "    {'name': 'Morgan',\n",
       "     'date': 'October 26, 2016',\n",
       "     'rating': 4,\n",
       "     'comments': 'This place is a blast. Must orders: GREEN TEA NOODS, sounds gross (to me at least) but these were incredible!, Kung pao pastrami (but you already knew that), beef tartare was a fun appetizer that we decided to try, the spicy ma po tofu SUPER spicy but delicous, egg rolls and scallion pancake i could have passed on... I wish we would have gone with a larger group, so much more I would have liked to try!'},\n",
       "    {'name': 'Jason',\n",
       "     'date': 'October 26, 2016',\n",
       "     'rating': 3,\n",
       "     'comments': 'I was VERY excited to come here after seeing and hearing so many good things about this place. Having read much, I knew going into it that it was not going to be authentic Chinese. The place was edgy, had a punk rock throwback attitude, and generally delivered the desired atmosphere. Things went downhill from there though. The food was okay at best and the best qualities were easily overshadowed by what I believe to be poor decisions by the kitchen staff.'}]},\n",
       "  {'id': 2,\n",
       "   'name': 'Emily',\n",
       "   'neighborhood': 'Brooklyn',\n",
       "   'photograph': '2.jpg',\n",
       "   'address': '919 Fulton St, Brooklyn, NY 11238',\n",
       "   'latlng': {'lat': 40.683555, 'lng': -73.966393},\n",
       "   'cuisine_type': 'Pizza',\n",
       "   'operating_hours': {'Monday': '5:30 pm - 11:00 pm',\n",
       "    'Tuesday': '5:30 pm - 11:00 pm',\n",
       "    'Wednesday': '5:30 pm - 11:00 pm',\n",
       "    'Thursday': '5:30 pm - 11:00 pm',\n",
       "    'Friday': '5:30 pm - 11:00 pm',\n",
       "    'Saturday': '5:00 pm - 11:30 pm',\n",
       "    'Sunday': '12:00 pm - 3:00 pm, 5:00 pm - 11:00 pm'},\n",
       "   'reviews': [{'name': 'Steph',\n",
       "     'date': 'October 26, 2016',\n",
       "     'rating': 4,\n",
       "     'comments': 'Five star food, two star atmosphere. I would definitely get takeout from this place - but dont think I have the energy to deal with the hipster ridiculousness again. By the time we left the wait was two hours long.'},\n",
       "    {'name': 'Steve',\n",
       "     'date': 'October 26, 2016',\n",
       "     'rating': 4,\n",
       "     'comments': 'This cozy Clinton Hill restaurant excels at both straightforward and unusual wood-fired pizzas. If you want a taste of the latter, consider ordering the Emily, which is topped with mozzarella, pistachios, truffled sottocenere cheese, and honey. The menu includes salads and a handful of starters, as well as a burger that some meat connoisseurs consider to be among the best in the city.'},\n",
       "    {'name': 'Sam',\n",
       "     'date': 'October 26, 2016',\n",
       "     'rating': 5,\n",
       "     'comments': \"5 star atmosphere as it is very cozy with great staff. 5 star food as their Emmy burger is outrageously good. and its on a pretzel bun.. Too juicy for its own good and downright addicting. Also try the Colony pizza. Many others looked like worth competitors, but the Colony really found its way to my heart. when you start with a great crust, top it with top notch cheese and sauce, you've got a winner. But, if you go a step further and add the salty from the pepperoni, the sweet from the honey, and the spicy from the chili oil.... your mouth is confused and happy at the same time.\"}]},\n",
       "  {'id': 3,\n",
       "   'name': 'Kang Ho Dong Baekjeong',\n",
       "   'neighborhood': 'Manhattan',\n",
       "   'photograph': '3.jpg',\n",
       "   'address': '1 E 32nd St, New York, NY 10016',\n",
       "   'latlng': {'lat': 40.747143, 'lng': -73.985414},\n",
       "   'cuisine_type': 'Asian',\n",
       "   'operating_hours': {'Monday': '11:30 am - 2:00 am',\n",
       "    'Tuesday': '11:30 am - 2:00 am',\n",
       "    'Wednesday': '11:30 am - 2:00 am',\n",
       "    'Thursday': '11:30 am - 2:00 am',\n",
       "    'Friday': '11:30 am - 6:00 am',\n",
       "    'Saturday': '11:30 am - 6:00 am',\n",
       "    'Sunday': '11:30 am - 2:00 am'},\n",
       "   'reviews': [{'name': 'Steve',\n",
       "     'date': 'October 26, 2016',\n",
       "     'rating': 4,\n",
       "     'comments': 'The tables at this 32nd Street favorite are outfitted with grills for cooking short ribs, brisket, beef tongue, rib eye, and pork jowl. The banchan plates are uniformly good, and Deuki Hong’s menu also includes winning dishes like stir-fried squid noodles, kimchi stew, and seafood pancakes. If it’s available, make sure to order the kimchi and rice “lunchbox.” Baekjeong is a great place for large groups and birthday parties.'},\n",
       "    {'name': 'ZS',\n",
       "     'date': 'October 26, 2016',\n",
       "     'rating': 5,\n",
       "     'comments': \"I've been to Korea before and many other Korean BBQ places. We had the regular pork belly and a beef (forgot which cut) and a seafood tofu soup. Two meat and a soup was just prefect for the two of us. We could have done one meat and one soup. The portions of the meat are great! The beef was juicy, tender and so good. The sides were excellent. \"},\n",
       "    {'name': 'Emily',\n",
       "     'date': 'October 26, 2016',\n",
       "     'rating': 2,\n",
       "     'comments': \"MEH. I've tried their Jersey location as well but Kang Ho Dong meat quality is severely decreasing. A Korean bbq place with whatever meat? I think NOT!\"}]},\n",
       "  {'id': 4,\n",
       "   'name': \"Katz's Delicatessen\",\n",
       "   'neighborhood': 'Manhattan',\n",
       "   'photograph': '4.jpg',\n",
       "   'address': '205 E Houston St, New York, NY 10002',\n",
       "   'latlng': {'lat': 40.722216, 'lng': -73.987501},\n",
       "   'cuisine_type': 'American',\n",
       "   'operating_hours': {'Monday': '8:00 am - 10:30 pm',\n",
       "    'Tuesday': '8:00 am - 10:30 pm',\n",
       "    'Wednesday': '8:00 am - 10:30 pm',\n",
       "    'Thursday': '8:00 am - 2:30 am',\n",
       "    'Friday': '8:00 am - Sat',\n",
       "    'Saturday': 'Open 24 hours',\n",
       "    'Sunday': 'Sat - 10:30 pm'},\n",
       "   'reviews': [{'name': 'Steve',\n",
       "     'date': 'October 26, 2016',\n",
       "     'rating': 5,\n",
       "     'comments': \"In 127 years, little has changed at Katz's. It remains one of New York's — and the country's — essential Jewish delicatessens. Every inch of the massive Lower East Side space smells intensely of pastrami and rye loaves. The sandwiches are massive, so they are best when shared. Order at the counter, and don't forget to tip your slicer — your sandwich will be better for it.\"},\n",
       "    {'name': 'Allen',\n",
       "     'date': 'October 26, 2016',\n",
       "     'rating': 5,\n",
       "     'comments': 'If I lived in NY and got diabetes from eating here every single time I ate, I would do it over and over and over again just for that first bite. These guys know how to make a sandwich. The heart attack comes free of charge! Came by while I was visiting NYC. First pit-stop when I come back :)!'},\n",
       "    {'name': 'David',\n",
       "     'date': 'October 26, 2016',\n",
       "     'rating': 2,\n",
       "     'comments': \"Ok so four of us came. One more later who didn't order becauase it's so expensive and simple. Seriously, a bunch of meat albeit you can sample beforehand on rye/white/wheat bread. Cheese extra. Pickles free, you can just ask them at the pickup counter. But seriously 20 bucks gone for an non-flavored half sandwich. And a line that is long, especially if you want seating. I'm down to just take a quick look where Sally and Harry sat and leave to the other delis all around NYC. Oh and they accept Samsung pay.\"}]},\n",
       "  {'id': 5,\n",
       "   'name': \"Roberta's Pizza\",\n",
       "   'neighborhood': 'Brooklyn',\n",
       "   'photograph': '5.jpg',\n",
       "   'address': '261 Moore St, Brooklyn, NY 11206',\n",
       "   'latlng': {'lat': 40.705089, 'lng': -73.933585},\n",
       "   'cuisine_type': 'Pizza',\n",
       "   'operating_hours': {'Monday': '11:00 am - 12:00 am',\n",
       "    'Tuesday': '11:00 am - 12:00 am',\n",
       "    'Wednesday': '11:00 am - 12:00 am',\n",
       "    'Thursday': '11:00 am - 12:00 am',\n",
       "    'Friday': '11:00 am - 12:00 am',\n",
       "    'Saturday': '10:00 am - 12:00 am',\n",
       "    'Sunday': '10:00 am - 12:00 am'},\n",
       "   'reviews': [{'name': 'Steve',\n",
       "     'date': 'October 26, 2016',\n",
       "     'rating': 4,\n",
       "     'comments': \"Roberta's is the epicenter of the modern Brooklyn food scene.The pizzas are fantastic, but the restaurant really flexes its muscles with the vegetable dishes. In addition to the pies, consider ordering the radishes, the romaine salad, the roasted beets, and some of the charcuterie.\"},\n",
       "    {'name': 'Raymond',\n",
       "     'date': 'October 26, 2016',\n",
       "     'rating': 4,\n",
       "     'comments': \"Roberta's, one of the better pizzas I have had in my life. Very trendy and hipsterish spot. Came here for lunch on a random weekday afternoon and when we arrived, there was a line forming already. The space is a bit cramped. You'll get to know your neighbors soon enough. The pizza is just delightful and delicious. It's a ncie plus that you get to see them firing up the pizzas in the corner. The major issue with Roberta's is the trek out to the Williamsburg/Bushwick.\"},\n",
       "    {'name': 'Laurel',\n",
       "     'date': 'October 26, 2016',\n",
       "     'rating': 4,\n",
       "     'comments': \"The pizza is fantastic, not THE best I've ever had, but would definitely go back since it has great food and great ambiance. Definitely worth going to. It has A LOT of hype in the New York food scene, and I question if it deserves all of it, but it's still a totally great spot to hit up when in the area!!\"}]},\n",
       "  {'id': 6,\n",
       "   'name': 'Hometown BBQ',\n",
       "   'neighborhood': 'Brooklyn',\n",
       "   'photograph': '6.jpg',\n",
       "   'address': '454 Van Brunt St, Brooklyn, NY 11231',\n",
       "   'latlng': {'lat': 40.674925, 'lng': -74.016162},\n",
       "   'cuisine_type': 'American',\n",
       "   'operating_hours': {'Monday': 'Closed',\n",
       "    'Tuesday': '12:00 pm - 10:00 pm',\n",
       "    'Wednesday': '12:00 pm - 10:00 pm',\n",
       "    'Thursday': '12:00 pm - 10:00 pm',\n",
       "    'Friday': '12:00 pm - 11:00 pm',\n",
       "    'Saturday': '12:00 pm - 11:00 pm',\n",
       "    'Sunday': '12:00 pm - 9:00 pm'},\n",
       "   'reviews': [{'name': 'Steve',\n",
       "     'date': 'October 26, 2016',\n",
       "     'rating': 4,\n",
       "     'comments': \"Barbecue aficionados agree that Billy Durney is cooking up some of the best Texas-style barbecue in the city. Straightforward classics like smoked brisket and baby back ribs are always a strong choice, but there are also options like pork belly tacos and a lamb belly banh mi. The space is sprawling in a way that feels like the real deal, and Durney himself can usually be found working the room, and keeping a watchful eye on the smoking meats. It's counter service only, and there's often a line, but for the scene and certainly for the meat, it's easily worth the trip to Red Hook.\"},\n",
       "    {'name': 'Michelle',\n",
       "     'date': 'October 26, 2016',\n",
       "     'rating': 4,\n",
       "     'comments': 'Overall, a great try of New York BBQ. The restaurant décor is rustic with a good amount of seats to sit and enjoy the meal. I definitely would love to come back and try that monster of a beef rib!'},\n",
       "    {'name': 'Ai-Mei',\n",
       "     'date': 'October 26, 2016',\n",
       "     'rating': 4,\n",
       "     'comments': \"mmmmmm, what a gem this is in bklyn! I loveeee how soft their brisket is here. Their pork tacos are to die for, their different variety of ribs and lastly, their lamb is not gamey at all. Super wallet friendly for the amount they give you. I highly recommend this spot- after eating here, you can definitely walk over for Steve's key lime pies.\"}]},\n",
       "  {'id': 7,\n",
       "   'name': 'Superiority Burger',\n",
       "   'neighborhood': 'Manhattan',\n",
       "   'photograph': '7.jpg',\n",
       "   'address': '430 E 9th St, New York, NY 10009',\n",
       "   'latlng': {'lat': 40.727397, 'lng': -73.983645},\n",
       "   'cuisine_type': 'American',\n",
       "   'operating_hours': {'Monday': '11:30 am - 10:00 pm',\n",
       "    'Tuesday': 'Closed',\n",
       "    'Wednesday': '11:30 am - 10:00 pm',\n",
       "    'Thursday': '11:30 am - 10:00 pm',\n",
       "    'Friday': '11:30 am - 10:00 pm',\n",
       "    'Saturday': '11:30 am - 10:00 pm',\n",
       "    'Sunday': '11:30 am - 10:00 pm'},\n",
       "   'reviews': [{'name': 'Steve',\n",
       "     'date': 'October 26, 2016',\n",
       "     'rating': 4,\n",
       "     'comments': \"Brooks Headley’s tiny East Village cafe is so much more than a veggie burger spot — it's one of the best bang-for-your-buck restaurants in Lower Manhattan. Headley and his crew turn seasonal vegetables into delectable salads and riffs on American comfort food favorites. The specials menu changes daily, and the rest of the menu is constantly evolving. You can get a lot of food to eat here for under $15 per person.\"},\n",
       "    {'name': 'Gabriel',\n",
       "     'date': 'October 26, 2016',\n",
       "     'rating': 5,\n",
       "     'comments': \"I was turned on to this place following the glowing NYT review. Its near my area of the city so I figured why not go? Man they weren't kidding, Superiority Burger is probably the best vegetarian experience I've ever had!\"},\n",
       "    {'name': 'Shivi',\n",
       "     'date': 'October 26, 2016',\n",
       "     'rating': 4,\n",
       "     'comments': 'Great flavors and very satisfying. Craving a sandwich, I stopped by on a Friday night with a vegetarian friend. Super small location with just a few seats inside. Ambiance is a bit industrial, good is definitely much more sophisticated than the look of the place! Ordered the superiority burger anda side of potato salad. The potato salad was very light and tasted clean ( less mayo, lots of dill and some cucumber) -- refreshing for a humid summer night! Sandwich was surprisingly delicious - it is very small ( funny allusion to a White Castle burger) but it packs a punch! Not only are there layers of flavors ( amazing sauces) but the party itself had a great texture Ahmed flavor-- well done and so wonderful! Will definitely stop by again for an overall amazing burger/sandwich. Staff was super nice and accommodating but not out of the way friendly.'}]},\n",
       "  {'id': 8,\n",
       "   'name': 'The Dutch',\n",
       "   'neighborhood': 'Manhattan',\n",
       "   'photograph': '8.jpg',\n",
       "   'address': '131 Sullivan St, New York, NY 10012',\n",
       "   'latlng': {'lat': 40.726584, 'lng': -74.002082},\n",
       "   'cuisine_type': 'American',\n",
       "   'operating_hours': {'Monday': '11:30 am - 3:00 pm, 5:30 pm - 11:00 pm',\n",
       "    'Tuesday': '11:30 am - 3:00 pm, 5:30 pm - 11:00 pm',\n",
       "    'Wednesday': '11:30 am - 3:00 pm, 5:30 pm - 11:00 pm',\n",
       "    'Thursday': '11:30 am - 3:00 pm, 5:30 pm - 11:00 pm',\n",
       "    'Friday': '11:30 am - 3:00 pm, 5:30 pm - 11:30 pm',\n",
       "    'Saturday': '10:00 am - 3:00 pm, 5:30 pm - 11:30 pm',\n",
       "    'Sunday': '10:00 am - 3:00 pm, 5:30 pm - 11:00 pm'},\n",
       "   'reviews': [{'name': 'Steve',\n",
       "     'date': 'October 26, 2016',\n",
       "     'rating': 4,\n",
       "     'comments': 'Over the last five years, The Dutch has turned into the quintessential American restaurant that chef Andrew Carmellini and partners Josh Pickard and Luke Ostrom sought to evoke when it first opened. It’s a great choice when you’re craving a steak, a burger, or oysters, and the menu always includes plentiful seafood options as well as pastas. The Dutch is now an indelible part of the Soho landscape.'},\n",
       "    {'name': 'Loren',\n",
       "     'date': 'October 26, 2016',\n",
       "     'rating': 4,\n",
       "     'comments': 'I randomly came here on a Saturday night. I was pleasantly surprised with the food and the service. We had the calamari and the ceviche with avocado, and then the catfish. Oh! Then we had the banana soufflé for dessert with ice cream. It was all delicious and well put together. Would love to eat here again.'},\n",
       "    {'name': 'Lori',\n",
       "     'date': 'October 26, 2016',\n",
       "     'rating': 4,\n",
       "     'comments': \"Aside from the slightly claustrophobic dining area and the fact that you may have difficulty hearing your dining companion, I'd return to The Dutch without hesitation. The food is surprisingly well-executed and conceived, and our dinner service flowed smoothly without a hitch. Just make sure to get a reservation in advance, as I'm sure more than just a few other people will have the same idea.\"}]},\n",
       "  {'id': 9,\n",
       "   'name': 'Mu Ramen',\n",
       "   'neighborhood': 'Queens',\n",
       "   'photograph': '9.jpg',\n",
       "   'address': '1209 Jackson Ave, Queens, NY 11101',\n",
       "   'latlng': {'lat': 40.743797, 'lng': -73.950652},\n",
       "   'cuisine_type': 'Asian',\n",
       "   'operating_hours': {'Monday': '5:00 pm - 10:00 pm',\n",
       "    'Tuesday': '5:00 pm - 10:00 pm',\n",
       "    'Wednesday': '5:00 pm - 10:00 pm',\n",
       "    'Thursday': '5:00 pm - 10:00 pm',\n",
       "    'Friday': '5:00 pm - 11:00 pm',\n",
       "    'Saturday': '5:00 pm - 11:00 pm',\n",
       "    'Sunday': '5:00 pm - 10:00 pm'},\n",
       "   'reviews': [{'name': 'Steve',\n",
       "     'date': 'October 26, 2016',\n",
       "     'rating': 4,\n",
       "     'comments': 'Joshua Smookler’s two-year-old ramen shop serves one of the best tonkotsu broths around. Beyond ramen, Mu also offers some high minded plates, like foie gras-stuffed chicken wings, as well as dry-aged Japanese Wagyu beef specials. Mu is just 10 short minutes away from Midtown via the 7-train.'},\n",
       "    {'name': 'Brittany',\n",
       "     'date': 'October 26, 2016',\n",
       "     'rating': 4,\n",
       "     'comments': \"Overall, I would definitely recommend this place if you enjoy thick curly noodles with a thick, intense broth.  If you don't there are still other options but I can't vouch for those.\"},\n",
       "    {'name': 'Sally',\n",
       "     'date': 'October 26, 2016',\n",
       "     'rating': 4,\n",
       "     'comments': \"One of the tastiest and most unique ramen places I've been to in NYC, but also the priciest. I think overall its worth the try. Not an everyday casual ramen shop though.\"}]},\n",
       "  {'id': 10,\n",
       "   'name': 'Casa Enrique',\n",
       "   'neighborhood': 'Queens',\n",
       "   'photograph': '10.jpg',\n",
       "   'address': '5-48 49th Ave, Queens, NY 11101',\n",
       "   'latlng': {'lat': 40.743394, 'lng': -73.954235},\n",
       "   'cuisine_type': 'Mexican',\n",
       "   'operating_hours': {'Monday': '5:00 pm - 12:00 am',\n",
       "    'Tuesday': '5:00 pm - 12:00 am',\n",
       "    'Wednesday': '5:00 pm - 12:00 am',\n",
       "    'Thursday': '5:00 pm - 12:00 am',\n",
       "    'Friday': '5:00 pm - 12:00 am',\n",
       "    'Saturday': '11:00 am - 12:00 am',\n",
       "    'Sunday': '11:00 am - 12:00 am'},\n",
       "   'reviews': [{'name': 'Steve',\n",
       "     'date': 'October 26, 2016',\n",
       "     'rating': 5,\n",
       "     'comments': \"Head to this laid-back Long Island City restaurant for beef tongue tacos, chicken smothered in a heady mole sauce, and a monster crab tostada. New York's only Michelin-starred Mexican restaurant is an especially cool choice for lunch during the week or drinks after work. Eater critic Ryan Sutton awarded this restaurant two stars.\"},\n",
       "    {'name': 'Rob',\n",
       "     'date': 'October 26, 2016',\n",
       "     'rating': 5,\n",
       "     'comments': \"The hype was real. Please go. Get the ceviche. And the tres leches. You're welcome\"},\n",
       "    {'name': 'Jason',\n",
       "     'date': 'October 26, 2016',\n",
       "     'rating': 4,\n",
       "     'comments': \"For a Michelin star restaurant, it's fairly priced and the food is fairly good. Started with a strawberry margarita which was good in flavor but not much alcohol. Had the chicken enchiladas with salsa verde and it was really good. Great balance in flavor and a good portion. Extra tasty with their hot sauces. My wife had the lamb but it was a bit too salty for our taste. Although, it was cooked very well and fell off the bone. The highlight of the night was the tres leches cake. Probably the best I've ever had to be honest. Not too sweet and very milky. Overall, one of my top 3 favorite Mexican in NY.\"}]}]}"
      ]
     },
     "execution_count": 5,
     "metadata": {},
     "output_type": "execute_result"
    }
   ],
   "source": [
    "newyork_data"
   ]
  },
  {
   "cell_type": "code",
   "execution_count": 6,
   "metadata": {},
   "outputs": [],
   "source": [
    "neighborhoods_data = newyork_data['restaurants']"
   ]
  },
  {
   "cell_type": "code",
   "execution_count": 18,
   "metadata": {},
   "outputs": [
    {
     "data": {
      "text/plain": [
       "{'id': 1,\n",
       " 'name': 'Mission Chinese Food',\n",
       " 'neighborhood': 'Manhattan',\n",
       " 'photograph': '1.jpg',\n",
       " 'address': '171 E Broadway, New York, NY 10002',\n",
       " 'latlng': {'lat': 40.713829, 'lng': -73.989667},\n",
       " 'cuisine_type': 'Asian',\n",
       " 'operating_hours': {'Monday': '5:30 pm - 11:00 pm',\n",
       "  'Tuesday': '5:30 pm - 12:00 am',\n",
       "  'Wednesday': '5:30 pm - 12:00 am',\n",
       "  'Thursday': '5:30 pm - 12:00 am',\n",
       "  'Friday': '5:30 pm - 12:00 am',\n",
       "  'Saturday': '12:00 pm - 4:00 pm, 5:30 pm - 12:00 am',\n",
       "  'Sunday': '12:00 pm - 4:00 pm, 5:30 pm - 11:00 pm'},\n",
       " 'reviews': [{'name': 'Steve',\n",
       "   'date': 'October 26, 2016',\n",
       "   'rating': 4,\n",
       "   'comments': 'Mission Chinese Food has grown up from its scrappy Orchard Street days into a big, two story restaurant equipped with a pizza oven, a prime rib cart, and a much broader menu. Yes, it still has all the hits — the kung pao pastrami, the thrice cooked bacon —but chef/proprietor Danny Bowien and executive chef Angela Dimayuga have also added a raw bar, two generous family-style set menus, and showstoppers like duck baked in clay. And you can still get a lot of food without breaking the bank.'},\n",
       "  {'name': 'Morgan',\n",
       "   'date': 'October 26, 2016',\n",
       "   'rating': 4,\n",
       "   'comments': 'This place is a blast. Must orders: GREEN TEA NOODS, sounds gross (to me at least) but these were incredible!, Kung pao pastrami (but you already knew that), beef tartare was a fun appetizer that we decided to try, the spicy ma po tofu SUPER spicy but delicous, egg rolls and scallion pancake i could have passed on... I wish we would have gone with a larger group, so much more I would have liked to try!'},\n",
       "  {'name': 'Jason',\n",
       "   'date': 'October 26, 2016',\n",
       "   'rating': 3,\n",
       "   'comments': 'I was VERY excited to come here after seeing and hearing so many good things about this place. Having read much, I knew going into it that it was not going to be authentic Chinese. The place was edgy, had a punk rock throwback attitude, and generally delivered the desired atmosphere. Things went downhill from there though. The food was okay at best and the best qualities were easily overshadowed by what I believe to be poor decisions by the kitchen staff.'}]}"
      ]
     },
     "execution_count": 18,
     "metadata": {},
     "output_type": "execute_result"
    }
   ],
   "source": [
    "neighborhoods_data[0]"
   ]
  },
  {
   "cell_type": "markdown",
   "metadata": {},
   "source": [
    "Tranform the data into a pandas dataframe\n",
    "The next task is essentially transforming this data of nested Python dictionaries into a pandas dataframe. So let's start by creating an empty dataframe."
   ]
  },
  {
   "cell_type": "code",
   "execution_count": 11,
   "metadata": {},
   "outputs": [
    {
     "data": {
      "text/html": [
       "<div>\n",
       "<style scoped>\n",
       "    .dataframe tbody tr th:only-of-type {\n",
       "        vertical-align: middle;\n",
       "    }\n",
       "\n",
       "    .dataframe tbody tr th {\n",
       "        vertical-align: top;\n",
       "    }\n",
       "\n",
       "    .dataframe thead th {\n",
       "        text-align: right;\n",
       "    }\n",
       "</style>\n",
       "<table border=\"1\" class=\"dataframe\">\n",
       "  <thead>\n",
       "    <tr style=\"text-align: right;\">\n",
       "      <th></th>\n",
       "      <th>Name</th>\n",
       "      <th>Address</th>\n",
       "      <th>Latitude</th>\n",
       "      <th>Longitude</th>\n",
       "    </tr>\n",
       "  </thead>\n",
       "  <tbody>\n",
       "  </tbody>\n",
       "</table>\n",
       "</div>"
      ],
      "text/plain": [
       "Empty DataFrame\n",
       "Columns: [Name, Address, Latitude, Longitude]\n",
       "Index: []"
      ]
     },
     "execution_count": 11,
     "metadata": {},
     "output_type": "execute_result"
    }
   ],
   "source": [
    "# define the dataframe columns\n",
    "column_names = ['Name','Address','Latitude', 'Longitude'] \n",
    "\n",
    "# instantiate the dataframe\n",
    "rest = pd.DataFrame(columns=column_names)\n",
    "rest"
   ]
  },
  {
   "cell_type": "code",
   "execution_count": 31,
   "metadata": {},
   "outputs": [
    {
     "data": {
      "text/html": [
       "<div>\n",
       "<style scoped>\n",
       "    .dataframe tbody tr th:only-of-type {\n",
       "        vertical-align: middle;\n",
       "    }\n",
       "\n",
       "    .dataframe tbody tr th {\n",
       "        vertical-align: top;\n",
       "    }\n",
       "\n",
       "    .dataframe thead th {\n",
       "        text-align: right;\n",
       "    }\n",
       "</style>\n",
       "<table border=\"1\" class=\"dataframe\">\n",
       "  <thead>\n",
       "    <tr style=\"text-align: right;\">\n",
       "      <th></th>\n",
       "      <th>Name</th>\n",
       "      <th>Address</th>\n",
       "      <th>Latitude</th>\n",
       "      <th>Longitude</th>\n",
       "    </tr>\n",
       "  </thead>\n",
       "  <tbody>\n",
       "    <tr>\n",
       "      <th>0</th>\n",
       "      <td>Mission Chinese Food</td>\n",
       "      <td>171 E Broadway, New York, NY 10002</td>\n",
       "      <td>40.713829</td>\n",
       "      <td>-73.989667</td>\n",
       "    </tr>\n",
       "    <tr>\n",
       "      <th>1</th>\n",
       "      <td>Emily</td>\n",
       "      <td>919 Fulton St, Brooklyn, NY 11238</td>\n",
       "      <td>40.683555</td>\n",
       "      <td>-73.966393</td>\n",
       "    </tr>\n",
       "    <tr>\n",
       "      <th>2</th>\n",
       "      <td>Kang Ho Dong Baekjeong</td>\n",
       "      <td>1 E 32nd St, New York, NY 10016</td>\n",
       "      <td>40.747143</td>\n",
       "      <td>-73.985414</td>\n",
       "    </tr>\n",
       "    <tr>\n",
       "      <th>3</th>\n",
       "      <td>Katz's Delicatessen</td>\n",
       "      <td>205 E Houston St, New York, NY 10002</td>\n",
       "      <td>40.722216</td>\n",
       "      <td>-73.987501</td>\n",
       "    </tr>\n",
       "    <tr>\n",
       "      <th>4</th>\n",
       "      <td>Roberta's Pizza</td>\n",
       "      <td>261 Moore St, Brooklyn, NY 11206</td>\n",
       "      <td>40.705089</td>\n",
       "      <td>-73.933585</td>\n",
       "    </tr>\n",
       "    <tr>\n",
       "      <th>5</th>\n",
       "      <td>Hometown BBQ</td>\n",
       "      <td>454 Van Brunt St, Brooklyn, NY 11231</td>\n",
       "      <td>40.674925</td>\n",
       "      <td>-74.016162</td>\n",
       "    </tr>\n",
       "    <tr>\n",
       "      <th>6</th>\n",
       "      <td>Superiority Burger</td>\n",
       "      <td>430 E 9th St, New York, NY 10009</td>\n",
       "      <td>40.727397</td>\n",
       "      <td>-73.983645</td>\n",
       "    </tr>\n",
       "    <tr>\n",
       "      <th>7</th>\n",
       "      <td>The Dutch</td>\n",
       "      <td>131 Sullivan St, New York, NY 10012</td>\n",
       "      <td>40.726584</td>\n",
       "      <td>-74.002082</td>\n",
       "    </tr>\n",
       "    <tr>\n",
       "      <th>8</th>\n",
       "      <td>Mu Ramen</td>\n",
       "      <td>1209 Jackson Ave, Queens, NY 11101</td>\n",
       "      <td>40.743797</td>\n",
       "      <td>-73.950652</td>\n",
       "    </tr>\n",
       "    <tr>\n",
       "      <th>9</th>\n",
       "      <td>Casa Enrique</td>\n",
       "      <td>5-48 49th Ave, Queens, NY 11101</td>\n",
       "      <td>40.743394</td>\n",
       "      <td>-73.954235</td>\n",
       "    </tr>\n",
       "  </tbody>\n",
       "</table>\n",
       "</div>"
      ],
      "text/plain": [
       "                     Name                               Address   Latitude  \\\n",
       "0    Mission Chinese Food    171 E Broadway, New York, NY 10002  40.713829   \n",
       "1                   Emily     919 Fulton St, Brooklyn, NY 11238  40.683555   \n",
       "2  Kang Ho Dong Baekjeong       1 E 32nd St, New York, NY 10016  40.747143   \n",
       "3     Katz's Delicatessen  205 E Houston St, New York, NY 10002  40.722216   \n",
       "4         Roberta's Pizza      261 Moore St, Brooklyn, NY 11206  40.705089   \n",
       "5            Hometown BBQ  454 Van Brunt St, Brooklyn, NY 11231  40.674925   \n",
       "6      Superiority Burger      430 E 9th St, New York, NY 10009  40.727397   \n",
       "7               The Dutch   131 Sullivan St, New York, NY 10012  40.726584   \n",
       "8                Mu Ramen    1209 Jackson Ave, Queens, NY 11101  40.743797   \n",
       "9            Casa Enrique       5-48 49th Ave, Queens, NY 11101  40.743394   \n",
       "\n",
       "   Longitude  \n",
       "0 -73.989667  \n",
       "1 -73.966393  \n",
       "2 -73.985414  \n",
       "3 -73.987501  \n",
       "4 -73.933585  \n",
       "5 -74.016162  \n",
       "6 -73.983645  \n",
       "7 -74.002082  \n",
       "8 -73.950652  \n",
       "9 -73.954235  "
      ]
     },
     "execution_count": 31,
     "metadata": {},
     "output_type": "execute_result"
    }
   ],
   "source": [
    "for data in neighborhoods_data:\n",
    "    name = data['name']\n",
    "    #print(name)\n",
    "    address= data['address']\n",
    "        \n",
    "    #neighborhood_latlon = data['latlng']['lat']\n",
    "    neighborhood_lat = data['latlng']['lat']\n",
    "    neighborhood_lon = data['latlng']['lng']\n",
    "    \n",
    "    restaurants = restaurants.append({'Name': name,\n",
    "                                          'Address': address,\n",
    "                                          'Latitude': neighborhood_lat,\n",
    "                                          'Longitude': neighborhood_lon}, ignore_index=True)\n",
    "\n",
    "\n",
    "restaurants.head(10)"
   ]
  },
  {
   "cell_type": "markdown",
   "metadata": {},
   "source": [
    "Let's get the geographical coordinates of Manhattan, NY."
   ]
  },
  {
   "cell_type": "code",
   "execution_count": null,
   "metadata": {},
   "outputs": [],
   "source": [
    "\n",
    "map_manhattan = folium.Map(location=[latitude, longitude], zoom_start=11)\n",
    "\n",
    "\n",
    "for lat, lng, label in zip(restaurants['Latitude'], restaurants['Longitude'], restaurants['Name']):\n",
    "    label = folium.Popup(label, parse_html=True)\n",
    "    folium.CircleMarker(\n",
    "        [lat, lng],\n",
    "        radius=5,\n",
    "        popup=label,\n",
    "        color='blue',\n",
    "        fill=True,\n",
    "        fill_color='#3186cc',\n",
    "        fill_opacity=0.7,\n",
    "        parse_html=False).add_to(map_manhattan)  \n",
    "    \n",
    "map_manhattan"
   ]
  },
  {
   "cell_type": "markdown",
   "metadata": {},
   "source": [
    "Next, we are going to start utilizing the Foursquare API to explore the neighborhoods and segment them.\n",
    "\n",
    "Define Foursquare Credentials and Version"
   ]
  },
  {
   "cell_type": "code",
   "execution_count": null,
   "metadata": {},
   "outputs": [],
   "source": [
    "CLIENT_ID = 'VIEQ0QX5GAJ1XLDJABA5WBS54XCVTNWLNY2NLAZVNB2ZDUYM' # your Foursquare ID\n",
    "CLIENT_SECRET = 'COARL4531NXUEZTWDE21201TRAZXPEFIQKXFY4AJKHWHDXOT' # your Foursquare Secret\n",
    "VERSION = '20180605' # Foursquare API version\n",
    "\n",
    "print('Your credentails:')\n",
    "print('CLIENT_ID: ' + CLIENT_ID)\n",
    "print('CLIENT_SECRET:' + CLIENT_SECRET)"
   ]
  },
  {
   "cell_type": "code",
   "execution_count": null,
   "metadata": {},
   "outputs": [],
   "source": [
    "LIMIT = 100 # limit of number of venues returned by Foursquare API\n",
    "radius = 500 # define radius\n",
    "\n",
    "url = 'https://api.foursquare.com/v2/venues/explore?&client_id={}&client_secret={}&v={}&ll={},{}&radius={}&limit={}'.format(\n",
    "    CLIENT_ID, \n",
    "    CLIENT_SECRET, \n",
    "    VERSION, \n",
    "    neighborhood_latitude, \n",
    "    neighborhood_longitude, \n",
    "    radius, \n",
    "    LIMIT)\n",
    "url "
   ]
  },
  {
   "cell_type": "markdown",
   "metadata": {},
   "source": [
    "Send the GET request and examine the resutls"
   ]
  },
  {
   "cell_type": "code",
   "execution_count": null,
   "metadata": {},
   "outputs": [],
   "source": [
    "results = requests.get(url).json()\n",
    "results"
   ]
  },
  {
   "cell_type": "markdown",
   "metadata": {},
   "source": [
    "From the Foursquare lab in the previous module, we know that all the information is in the items key. Before we proceed, let's borrow the get_category_type function from the Foursquare lab."
   ]
  },
  {
   "cell_type": "code",
   "execution_count": null,
   "metadata": {},
   "outputs": [],
   "source": [
    "# function that extracts the category of the venue\n",
    "def get_category_type(row):\n",
    "    try:\n",
    "        categories_list = row['categories']\n",
    "    except:\n",
    "        categories_list = row['venue.categories']\n",
    "        \n",
    "    if len(categories_list) == 0:\n",
    "        return None\n",
    "    else:\n",
    "        return categories_list[0]['name']"
   ]
  },
  {
   "cell_type": "markdown",
   "metadata": {},
   "source": [
    "Explore: Explore the data and after this we have to analysis the all the availble list of resturants or Indian Resurants to find the best location and best places to open/start the restaurants."
   ]
  },
  {
   "cell_type": "code",
   "execution_count": null,
   "metadata": {},
   "outputs": [],
   "source": [
    "def getNearbyVenues(names, latitudes, longitudes, radius=500):\n",
    "    \n",
    "    venues_list=[]\n",
    "    for name, lat, lng in zip(names, latitudes, longitudes):\n",
    "        print(name)\n",
    "            \n",
    "        # create the API request URL\n",
    "        url = 'https://api.foursquare.com/v2/venues/explore?&client_id={}&client_secret={}&v={}&ll={},{}&radius={}&limit={}'.format(\n",
    "            CLIENT_ID, \n",
    "            CLIENT_SECRET, \n",
    "            VERSION, \n",
    "            lat, \n",
    "            lng, \n",
    "            radius, \n",
    "            LIMIT)\n",
    "            \n",
    "        # make the GET request\n",
    "        results = requests.get(url).json()[\"response\"]['groups'][0]['items']\n",
    "        \n",
    "        # return only relevant information for each nearby venue\n",
    "        venues_list.append([(\n",
    "            name, \n",
    "            lat, \n",
    "            lng, \n",
    "            v['venue']['name'], \n",
    "            v['venue']['location']['lat'], \n",
    "            v['venue']['location']['lng'],  \n",
    "            v['venue']['categories'][0]['name']) for v in results])\n",
    "\n",
    "    nearby_venues = pd.DataFrame([item for venue_list in venues_list for item in venue_list])\n",
    "    nearby_venues.columns = ['Neighborhood', \n",
    "                  'Neighborhood Latitude', \n",
    "                  'Neighborhood Longitude', \n",
    "                  'Venue', \n",
    "                  'Venue Latitude', \n",
    "                  'Venue Longitude', \n",
    "                  'Venue Category']\n",
    "    \n",
    "    return(nearby_venues)"
   ]
  },
  {
   "cell_type": "markdown",
   "metadata": {},
   "source": [
    "Now write the code to run the above function on each neighborhood and create a new dataframe called manhattan_venues."
   ]
  },
  {
   "cell_type": "code",
   "execution_count": null,
   "metadata": {},
   "outputs": [],
   "source": [
    "def get_venues_near_location(lat, lon, category, client_id, client_secret, radius=500, limit=100):\n",
    "    version = '20180724'\n",
    "    url = 'https://api.foursquare.com/v2/venues/explore?client_id={}&client_secret={}&v={}&ll={},{}&categoryId={}&radius={}&limit={}'.format(\n",
    "        client_id, client_secret, version, lat, lon, category, radius, limit)\n",
    "    try:\n",
    "        results = requests.get(url).json()['response']['groups'][0]['items']\n",
    "        venues = [(item['venue']['id'],\n",
    "                   item['venue']['name'],\n",
    "                   get_categories(item['venue']['categories']),\n",
    "                   (item['venue']['location']['lat'], item['venue']['location']['lng']),\n",
    "                   format_address(item['venue']['location']),\n",
    "                   item['venue']['location']['distance']) for item in results]        \n",
    "    except:\n",
    "        venues = []\n",
    "    return venues"
   ]
  },
  {
   "cell_type": "code",
   "execution_count": 29,
   "metadata": {},
   "outputs": [],
   "source": [
    "restaurants.to_pickle('./locations.pkl')    "
   ]
  },
  {
   "cell_type": "code",
   "execution_count": 30,
   "metadata": {},
   "outputs": [],
   "source": [
    "import pickle\n",
    "\n",
    "def get_restaurants(lats, lons):\n",
    "    restaurants1 = {}\n",
    "    indian_restaurants = {}\n",
    "    location_restaurants = []\n",
    "\n",
    "    print('Obtaining venues around candidate locations:', end='')\n",
    "    for lat, lon in zip(lats, lons):\n",
    "        # Using radius=350 to meke sure we have overlaps/full coverage so we don't miss any restaurant (we're using dictionaries to remove any duplicates resulting from area overlaps)\n",
    "        venues = get_venues_near_location(lat, lon, food_category, CLIENT_ID, CLIENT_SECRET, radius=350, limit=100)\n",
    "        area_restaurants = []\n",
    "        for venue in venues:\n",
    "            venue_id = venue[0]\n",
    "            venue_name = venue[1]\n",
    "            venue_categories = venue[2]\n",
    "            venue_latlon = venue[3]\n",
    "            venue_address = venue[4]\n",
    "            venue_distance = venue[5]\n",
    "            is_res, is_indian = is_restaurant(venue_categories, specific_filter=indian_restaurant_categories)\n",
    "            if is_res:\n",
    "                x, y = lonlat_to_xy(venue_latlon[1], venue_latlon[0])\n",
    "                restaurant1 = (venue_id, venue_name, venue_latlon[0], venue_latlon[1], venue_address, venue_distance, is_italian, x, y)\n",
    "                if venue_distance<=300:\n",
    "                    area_restaurants.append(restaurant)\n",
    "                restaurants1[venue_id] = restaurant\n",
    "                if is_indian:\n",
    "                    indian_restaurants[venue_id] = restaurant\n",
    "        location_restaurants.append(area_restaurants)\n",
    "        print(' .', end='')\n",
    "    print(' done.')\n",
    "    return restaurants1, indian_restaurants, location_restaurants\n",
    "\n",
    "\n"
   ]
  },
  {
   "cell_type": "code",
   "execution_count": null,
   "metadata": {},
   "outputs": [],
   "source": [
    "import numpy as np\n",
    "\n",
    "print('Total number of restaurants:', len(restaurants1))\n",
    "print('Total number of Indian restaurants:', len(indian_restaurants))\n"
   ]
  },
  {
   "cell_type": "code",
   "execution_count": null,
   "metadata": {},
   "outputs": [],
   "source": [
    "print('List of Indian restaurants')\n",
    "print('---------------------------')\n",
    "for r in list(indian_restaurants.values())[:10]:\n",
    "    print(r)\n",
    "print('...')\n",
    "print('Total:', len(indian_restaurants))"
   ]
  },
  {
   "cell_type": "markdown",
   "metadata": {},
   "source": [
    " <b>Methodology</b> \n",
    " \n",
    "   In this project we will direct our efforts on detecting areas of New York that have low restaurant density, particularly those with low number of Indian restaurants. \n",
    "\n",
    "In first step we have collected the required **data: location and type (category) of every restaurant . We have also **identified Indian restaurants** (according to Foursquare categorization).\n",
    "\n",
    "Second step in our analysis will be calculation and exploration of '**restaurant density**' across different areas of New York  to identify a few promising areas close to center with low number of restaurants in general (*and* no Italian restaurants in vicinity) and focus our attention on those areas.\n",
    "\n",
    "In third and final step we will focus on most promising areas and within those create **clusters of locations that meet some basic requirements** established in discussion with stakeholders: we will take into consideration locations with **less number of restaurants **, and we want locations **without Indian restaurants in that location**. We will present map of all such locations but also create clusters (using **k-means clustering**) of those locations to identify general zones / neighborhoods / addresses which should be a starting point for final 'street level' exploration and search for optimal venue location by stakeholders."
   ]
  },
  {
   "cell_type": "markdown",
   "metadata": {},
   "source": [
    "<b>Analysis</b>\n",
    "\n",
    "Let's perform some basic explanatory data analysis and derive some additional info from our raw data. First let's count the **number of restaurants in every area candidate**:"
   ]
  },
  {
   "cell_type": "code",
   "execution_count": null,
   "metadata": {},
   "outputs": [],
   "source": [
    "restaurants_count = [len(res) for res in indian_restaurants]\n",
    "\n",
    "\n",
    "\n",
    "print('Average number of restaurants in every area with radius=300m:', np.array(restaurants_count).mean())\n",
    "\n"
   ]
  },
  {
   "cell_type": "markdown",
   "metadata": {},
   "source": [
    "OK, now let's calculate the **distance to nearest Indian restaurant ** "
   ]
  },
  {
   "cell_type": "code",
   "execution_count": null,
   "metadata": {},
   "outputs": [],
   "source": [
    "distances_to_indian_restaurant = []\n",
    "\n",
    "for area_x, area_y in zip(xs, ys):\n",
    "    min_distance = 10000\n",
    "    for res in indian_restaurants.values():\n",
    "        res_x = res[7]\n",
    "        res_y = res[8]\n",
    "        d = calc_xy_distance(area_x, area_y, res_x, res_y)\n",
    "        if d<min_distance:\n",
    "            min_distance = d\n",
    "    distances_to_indian_restaurant.append(min_distance)\n",
    "\n",
    "neighborhoods_data['Distance to Indian restaurant'] = distances_to_indian_restaurant"
   ]
  },
  {
   "cell_type": "markdown",
   "metadata": {},
   "source": [
    "<b>Results and Discussion</b>\n",
    "\n",
    "   Our analysis shows that although there is a great number of restaurants in Nerk Yok, there are pockets of low restaurant density fairly close to city center. So we focused our attention to areas with low density of Indian restaurants. \n",
    "\n",
    "After directing our attention to this more narrow area of interest those locations were then filtered so that those with less restaurants .\n",
    "\n",
    "Those location candidates were then clustered to create zones of interest which contain greatest number of location candidates.\n",
    "\n",
    "Result of all this is 15 zones containing largest number of potential new restaurant locations based on number of and distance to existing venues - both restaurants in general and Indian restaurants particularly. This, of course, does not imply that those zones are actually optimal locations for a new restaurant! Purpose of this analysis was to only provide info on areas close in  New York - it is entirely possible that there is a very good reason for small number of restaurants in any of those areas, reasons which would make them unsuitable for a new restaurant regardless of lack of competition in the area."
   ]
  },
  {
   "cell_type": "markdown",
   "metadata": {},
   "source": [
    "<b>Conclusion</b>\n",
    "   Purpose of this project was to identify New York areas close to center with low number of restaurants (particularly Indian restaurants) in order to aid stakeholders in narrowing down the search for optimal location for a new Indian restaurant. By calculating restaurant density distribution from Foursquare data we have first identified general  collection of locations which satisfy some basic requirements regarding existing nearby restaurants. Clustering of those locations was then performed in order to create major zones of interest (containing greatest number of potential locations) and addresses of those zone centers were created to be used as starting points for final exploration by stakeholders.\n",
    "\n",
    "Final decission on optimal restaurant location will be made by stakeholders based on specific characteristics of neighborhoods and locations in every recommended zone, taking into consideration additional factors like attractiveness of each location (proximity to park or water)etc."
   ]
  },
  {
   "cell_type": "code",
   "execution_count": null,
   "metadata": {},
   "outputs": [],
   "source": []
  }
 ],
 "metadata": {
  "kernelspec": {
   "display_name": "Python 3",
   "language": "python",
   "name": "python3"
  },
  "language_info": {
   "codemirror_mode": {
    "name": "ipython",
    "version": 3
   },
   "file_extension": ".py",
   "mimetype": "text/x-python",
   "name": "python",
   "nbconvert_exporter": "python",
   "pygments_lexer": "ipython3",
   "version": "3.7.6"
  }
 },
 "nbformat": 4,
 "nbformat_minor": 4
}
